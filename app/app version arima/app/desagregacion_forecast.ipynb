{
 "cells": [
  {
   "cell_type": "code",
   "execution_count": 1,
   "id": "c212a38c",
   "metadata": {},
   "outputs": [],
   "source": [
    "\"\"\"\n",
    "\"\"\"\n",
    "#import libraries\n",
    "\n",
    "import pandas as pd # dataframe library\n",
    "import numpy as np #mathematical library\n",
    "import datetime #date library\n",
    "from dateutil.relativedelta import relativedelta #subtract periods to a date\n",
    "import sys #system exit\n",
    "import time\n",
    "\n",
    "#import our sql script to connecto to engine and return dataframe. In this case, \n",
    "#the %run is used to \"import\" our sql connection notebook\n",
    "\n",
    "%run ..\\sql\\connect_sql_server.ipynb\n",
    "#from ipynb.fs.full.connect_sql_server import querySQL --> this is another option to import another notebook when in the same folder\n",
    "\n",
    "#import warnings library to then avoid the warnings given by jupyter\n",
    "import warnings\n",
    "warnings.filterwarnings('ignore')\n",
    "\n"
   ]
  },
  {
   "cell_type": "code",
   "execution_count": 2,
   "id": "6c6f07f4",
   "metadata": {},
   "outputs": [],
   "source": []
  },
  {
   "cell_type": "code",
   "execution_count": 5,
   "id": "51242d18",
   "metadata": {},
   "outputs": [],
   "source": [
    "country = 'Republica Dominicana' #state the country\n",
    "start_date_history = datetime.datetime(2013, 1, 1) #the start date for our model to analyze\n",
    "end_date_history = datetime.datetime(2023, 1 , 24) #the end date for our model to analyze\n",
    "df_history = querySQL(  \"{CALL SCAC_AP20_BaseDesagregacionV2 (?,?,?)}\", (country, start_date_history.strftime(\"%Y-%m-%d\"), end_date_history.strftime(\"%Y-%m-%d\") ) )\n"
   ]
  },
  {
   "cell_type": "code",
   "execution_count": 6,
   "id": "79441e23",
   "metadata": {
    "scrolled": true
   },
   "outputs": [
    {
     "name": "stdout",
     "output_type": "stream",
     "text": [
      "no weeks missing\n",
      "exitoso\n"
     ]
    }
   ],
   "source": [
    "year_disaggregate = 2023 # year to disaggregate \n",
    "month_disaggregate = 2\n",
    "volume = 0 #only for abs_type = 1\n",
    "inactivate_temp = [] #place inactive factories if there are any\n",
    "abs_type = -1\n",
    "\"\"\"\n",
    "PARAMETROS:\n",
    "absorcionEstadistica = 1  -> get general volume\n",
    "absorcionEstadistica = 0  -> get volume by city\n",
    "absorcionEstadistica = -1 -> get volume by factory\n",
    "\n",
    "\"\"\"\n",
    "#get weeks corresponding to the desired month\n",
    "calendar_sql = querySQL( \"select * from SCAC_AT3_DiasHabilesFuente where pais = ? and año = ? and mes = ? order by [Fecha de entrega]\", (country,year_disaggregate,month_disaggregate) )\n",
    "#get active factories to filter out inactive\n",
    "active_factories = querySQL( \"select Centro, [Planta Unica] as Planta, [Desc Cluster] as Cluster, Ciudad_Cluster as Ciudad  from SCAC_AT1_NombreCluster where pais = ? and activo = 1 order by Centro\", (country) )\n",
    "#execute dissagregation\n",
    "df_pivot_stational_factor = get_stational_factors(df_history,country,year_disaggregate,month_disaggregate,inactivate_temp,calendar_sql,volume,abs_type,active_factories)\n",
    "send_excel(df_pivot_stational_factor,country)"
   ]
  },
  {
   "cell_type": "code",
   "execution_count": null,
   "id": "73fe8f25",
   "metadata": {},
   "outputs": [],
   "source": []
  },
  {
   "cell_type": "code",
   "execution_count": null,
   "id": "5b489379",
   "metadata": {},
   "outputs": [],
   "source": []
  },
  {
   "cell_type": "code",
   "execution_count": null,
   "id": "e704407f",
   "metadata": {},
   "outputs": [],
   "source": []
  },
  {
   "cell_type": "code",
   "execution_count": null,
   "id": "65df7fbe",
   "metadata": {},
   "outputs": [],
   "source": []
  },
  {
   "cell_type": "code",
   "execution_count": null,
   "id": "109877b3",
   "metadata": {},
   "outputs": [],
   "source": []
  },
  {
   "cell_type": "code",
   "execution_count": null,
   "id": "fb82391c",
   "metadata": {},
   "outputs": [],
   "source": []
  }
 ],
 "metadata": {
  "kernelspec": {
   "display_name": "Python 3 (ipykernel)",
   "language": "python",
   "name": "python3"
  },
  "language_info": {
   "codemirror_mode": {
    "name": "ipython",
    "version": 3
   },
   "file_extension": ".py",
   "mimetype": "text/x-python",
   "name": "python",
   "nbconvert_exporter": "python",
   "pygments_lexer": "ipython3",
   "version": "3.9.13"
  }
 },
 "nbformat": 4,
 "nbformat_minor": 5
}
