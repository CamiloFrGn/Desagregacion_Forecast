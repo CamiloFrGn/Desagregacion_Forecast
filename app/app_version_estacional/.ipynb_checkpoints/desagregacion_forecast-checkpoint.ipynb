{
 "cells": [
  {
   "cell_type": "code",
   "execution_count": null,
   "id": "c212a38c",
   "metadata": {},
   "outputs": [],
   "source": [
    "\"\"\"This script will be used to \n",
    "\"\"\"\n",
    "#import libraries\n",
    "\n",
    "import pandas as pd # dataframe library\n",
    "import numpy as np #mathematical library\n",
    "import datetime #date library\n",
    "\n",
    "#import our sql script to connecto to engine and return dataframe\n",
    "from "
   ]
  }
 ],
 "metadata": {
  "kernelspec": {
   "display_name": "Python 3 (ipykernel)",
   "language": "python",
   "name": "python3"
  },
  "language_info": {
   "codemirror_mode": {
    "name": "ipython",
    "version": 3
   },
   "file_extension": ".py",
   "mimetype": "text/x-python",
   "name": "python",
   "nbconvert_exporter": "python",
   "pygments_lexer": "ipython3",
   "version": "3.9.13"
  }
 },
 "nbformat": 4,
 "nbformat_minor": 5
}
