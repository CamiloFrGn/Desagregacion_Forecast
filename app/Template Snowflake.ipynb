{
 "cells": [
  {
   "cell_type": "code",
   "execution_count": null,
   "metadata": {},
   "outputs": [],
   "source": [
    "import modulo_conn_sql as mcq\n",
    "import numpy as np\n",
    "import pandas as pd \n",
    "import datetime \n",
    "import matplotlib.pyplot as plt\n",
    "from pandas.tseries.offsets import MonthEnd\n",
    "from pandas.tseries.offsets import MonthBegin\n",
    "import random\n",
    "\n",
    "def conectarSQL():\n",
    "    conn = mcq.ConexionSQL()\n",
    "    cursor = conn.getCursor()\n",
    "    return cursor\n",
    "\n",
    "#Query BD SQL-Server Cemex\n",
    "def querySQL(query, parametros):\n",
    "    #Conectar con base sql y ejecutar consulta\n",
    "    cursor = conectarSQL()\n",
    "    try:\n",
    "        cursor.execute(query, parametros)\n",
    "        #obtener nombre de columnas\n",
    "        names = [ x[0] for x in cursor.description]\n",
    "        \n",
    "        #Reunir todos los resultado en rows\n",
    "        rows = cursor.fetchall()\n",
    "        resultadoSQL = []\n",
    "            \n",
    "        #Hacer un array con los resultados\n",
    "        while rows:\n",
    "            resultadoSQL.append(rows)\n",
    "            if cursor.nextset():\n",
    "                rows = cursor.fetchall()\n",
    "            else:\n",
    "                rows = None\n",
    "                \n",
    "        #Redimensionar el array para que quede en dos dimensiones\n",
    "        resultadoSQL = np.array(resultadoSQL)\n",
    "        resultadoSQL = np.reshape(resultadoSQL, (resultadoSQL.shape[1], resultadoSQL.shape[2]) )\n",
    "    finally:\n",
    "            if cursor is not None:\n",
    "                cursor.close()\n",
    "    return pd.DataFrame(resultadoSQL, columns = names)"
   ]
  },
  {
   "cell_type": "code",
   "execution_count": null,
   "metadata": {},
   "outputs": [],
   "source": [
    "df = querySQL( \"SELECT * FROM SCAC_AT2_condensadoservicio where FechaEntrega BETWEEN '2022-03-06' AND '2022-03-20'\" , () )\n",
    "df = df.drop(columns=['FechaConsulta', 'ID'])"
   ]
  },
  {
   "cell_type": "code",
   "execution_count": null,
   "metadata": {},
   "outputs": [],
   "source": [
    "id_inicial= 804391\n",
    "id_array = [*range(id_inicial, id_inicial + len(df), 1)]\n",
    "\n",
    "df_new = pd.DataFrame({'ID':id_array} )\n",
    "df_new = pd.concat([df_new, df], axis=1)"
   ]
  },
  {
   "cell_type": "code",
   "execution_count": null,
   "metadata": {},
   "outputs": [],
   "source": [
    " \n",
    "df_new.to_csv(\"MAR2022.csv\", index=False, encoding = 'utf-8-sig', sep= '|' )\n"
   ]
  }
 ],
 "metadata": {
  "kernelspec": {
   "display_name": "Python 3",
   "language": "python",
   "name": "python3"
  },
  "language_info": {
   "codemirror_mode": {
    "name": "ipython",
    "version": 3
   },
   "file_extension": ".py",
   "mimetype": "text/x-python",
   "name": "python",
   "nbconvert_exporter": "python",
   "pygments_lexer": "ipython3",
   "version": "3.8.5"
  }
 },
 "nbformat": 4,
 "nbformat_minor": 4
}
